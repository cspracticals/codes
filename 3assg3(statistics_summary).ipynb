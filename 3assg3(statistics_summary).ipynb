{
 "cells": [
  {
   "cell_type": "code",
   "execution_count": 5,
   "id": "a734cacf",
   "metadata": {},
   "outputs": [
    {
     "name": "stdout",
     "output_type": "stream",
     "text": [
      "           sepal.length                            sepal.width              \\\n",
      "                   mean median  min  max       std        mean median  min   \n",
      "variety                                                                      \n",
      "Setosa            5.006    5.0  4.3  5.8  0.352490       3.428    3.4  2.3   \n",
      "Versicolor        5.936    5.9  4.9  7.0  0.516171       2.770    2.8  2.0   \n",
      "Virginica         6.588    6.5  4.9  7.9  0.635880       2.974    3.0  2.2   \n",
      "\n",
      "                          petal.length                            petal.width  \\\n",
      "            max       std         mean median  min  max       std        mean   \n",
      "variety                                                                         \n",
      "Setosa      4.4  0.379064        1.462   1.50  1.0  1.9  0.173664       0.246   \n",
      "Versicolor  3.4  0.313798        4.260   4.35  3.0  5.1  0.469911       1.326   \n",
      "Virginica   3.8  0.322497        5.552   5.55  4.5  6.9  0.551895       2.026   \n",
      "\n",
      "                                       \n",
      "           median  min  max       std  \n",
      "variety                                \n",
      "Setosa        0.2  0.1  0.6  0.105386  \n",
      "Versicolor    1.3  1.0  1.8  0.197753  \n",
      "Virginica     2.0  1.4  2.5  0.274650  \n"
     ]
    }
   ],
   "source": [
    "import pandas as pd\n",
    "\n",
    "# Load the iris dataset\n",
    "df = pd.read_csv('iris.csv')\n",
    "\n",
    "# Select only numeric columns (exclude species)\n",
    "numeric_cols = df.select_dtypes(include='number').columns\n",
    "\n",
    "# Group by species and compute summary statistics\n",
    "summary = df.groupby('variety')[numeric_cols].agg(['mean', 'median', 'min', 'max', 'std'])\n",
    "\n",
    "print(summary)\n"
   ]
  },
  {
   "cell_type": "code",
   "execution_count": 1,
   "id": "f9bbeed8",
   "metadata": {},
   "outputs": [],
   "source": [
    "import pandas as pd\n",
    "\n",
    "data = {\n",
    "    'age_group': ['18-25', '26-35', '18-25', '36-45', '26-35', '36-45'],\n",
    "    'income': [25000, 40000, 27000, 50000, 42000, 48000]\n",
    "}\n",
    "df = pd.DataFrame(data)\n"
   ]
  },
  {
   "cell_type": "code",
   "execution_count": 2,
   "id": "f32dd705",
   "metadata": {},
   "outputs": [
    {
     "name": "stdout",
     "output_type": "stream",
     "text": [
      "  age_group  age_code\n",
      "0     18-25         1\n",
      "1     26-35         2\n",
      "2     18-25         1\n",
      "3     36-45         3\n",
      "4     26-35         2\n",
      "5     36-45         3\n"
     ]
    }
   ],
   "source": [
    "age_map = {'18-25': 1, '26-35': 2, '36-45': 3}\n",
    "df['age_code'] = df['age_group'].map(age_map)\n",
    "\n",
    "# View result\n",
    "print(df[['age_group', 'age_code']])\n"
   ]
  }
 ],
 "metadata": {
  "kernelspec": {
   "display_name": "venv",
   "language": "python",
   "name": "python3"
  },
  "language_info": {
   "codemirror_mode": {
    "name": "ipython",
    "version": 3
   },
   "file_extension": ".py",
   "mimetype": "text/x-python",
   "name": "python",
   "nbconvert_exporter": "python",
   "pygments_lexer": "ipython3",
   "version": "3.12.6"
  }
 },
 "nbformat": 4,
 "nbformat_minor": 5
}
